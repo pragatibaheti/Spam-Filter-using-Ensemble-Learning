{
 "cells": [
  {
   "cell_type": "markdown",
   "metadata": {},
   "source": [
    "## Natural Language Processing for Text Classification with NLTK and Scikit-learn"
   ]
  },
  {
   "cell_type": "markdown",
   "metadata": {},
   "source": [
    "In this project, we will expand on this foundation and explore different ways to improve our text classification results. We will cover and use:\n",
    "\n",
    "* Regular Expressions\n",
    "* Feature Engineering\n",
    "* Multiple scikit-learn Classifiers\n",
    "* Ensemble Methods\n"
   ]
  },
  {
   "cell_type": "code",
   "execution_count": 1,
   "metadata": {},
   "outputs": [
    {
     "name": "stdout",
     "output_type": "stream",
     "text": [
      "Python: 3.7.3 (default, Apr 24 2019, 15:29:51) [MSC v.1915 64 bit (AMD64)]\n",
      "NLTK: 3.4.4\n",
      "Scikit-learn: 0.21.2\n",
      "Pandas: 0.24.2\n",
      "Numpy: 1.16.4\n"
     ]
    }
   ],
   "source": [
    "import sys\n",
    "import nltk\n",
    "import sklearn\n",
    "import pandas as pd\n",
    "import numpy as np\n",
    "\n",
    "print('Python: {}'.format(sys.version))\n",
    "print('NLTK: {}'.format(nltk.__version__))\n",
    "print('Scikit-learn: {}'.format(sklearn.__version__))\n",
    "print('Pandas: {}'.format(pd.__version__))\n",
    "print('Numpy: {}'.format(np.__version__))"
   ]
  },
  {
   "cell_type": "markdown",
   "metadata": {},
   "source": [
    "### 2. Load the Dataset\n",
    "\n",
    "Now that we have ensured that our libraries are installed correctly, let's load the data set as a Pandas DataFrame. Furthermore, let's extract some useful information such as the column information and class distributions. \n",
    "\n",
    "The data set we will be using comes from the UCI Machine Learning Repository.  It contains over 5000 SMS labeled messages that have been collected for mobile phone spam research. It can be downloaded from the following URL:\n",
    "\n",
    "https://archive.ics.uci.edu/ml/datasets/sms+spam+collection"
   ]
  },
  {
   "cell_type": "code",
   "execution_count": 2,
   "metadata": {},
   "outputs": [
    {
     "data": {
      "text/html": [
       "<div>\n",
       "<style scoped>\n",
       "    .dataframe tbody tr th:only-of-type {\n",
       "        vertical-align: middle;\n",
       "    }\n",
       "\n",
       "    .dataframe tbody tr th {\n",
       "        vertical-align: top;\n",
       "    }\n",
       "\n",
       "    .dataframe thead th {\n",
       "        text-align: right;\n",
       "    }\n",
       "</style>\n",
       "<table border=\"1\" class=\"dataframe\">\n",
       "  <thead>\n",
       "    <tr style=\"text-align: right;\">\n",
       "      <th></th>\n",
       "      <th>0</th>\n",
       "      <th>1</th>\n",
       "      <th>2</th>\n",
       "      <th>3</th>\n",
       "      <th>4</th>\n",
       "    </tr>\n",
       "  </thead>\n",
       "  <tbody>\n",
       "    <tr>\n",
       "      <th>0</th>\n",
       "      <td>v1</td>\n",
       "      <td>v2</td>\n",
       "      <td>NaN</td>\n",
       "      <td>NaN</td>\n",
       "      <td>NaN</td>\n",
       "    </tr>\n",
       "    <tr>\n",
       "      <th>1</th>\n",
       "      <td>ham</td>\n",
       "      <td>Go until jurong point, crazy.. Available only ...</td>\n",
       "      <td>NaN</td>\n",
       "      <td>NaN</td>\n",
       "      <td>NaN</td>\n",
       "    </tr>\n",
       "    <tr>\n",
       "      <th>2</th>\n",
       "      <td>ham</td>\n",
       "      <td>Ok lar... Joking wif u oni...</td>\n",
       "      <td>NaN</td>\n",
       "      <td>NaN</td>\n",
       "      <td>NaN</td>\n",
       "    </tr>\n",
       "    <tr>\n",
       "      <th>3</th>\n",
       "      <td>spam</td>\n",
       "      <td>Free entry in 2 a wkly comp to win FA Cup fina...</td>\n",
       "      <td>NaN</td>\n",
       "      <td>NaN</td>\n",
       "      <td>NaN</td>\n",
       "    </tr>\n",
       "    <tr>\n",
       "      <th>4</th>\n",
       "      <td>ham</td>\n",
       "      <td>U dun say so early hor... U c already then say...</td>\n",
       "      <td>NaN</td>\n",
       "      <td>NaN</td>\n",
       "      <td>NaN</td>\n",
       "    </tr>\n",
       "  </tbody>\n",
       "</table>\n",
       "</div>"
      ],
      "text/plain": [
       "      0                                                  1    2    3    4\n",
       "0    v1                                                 v2  NaN  NaN  NaN\n",
       "1   ham  Go until jurong point, crazy.. Available only ...  NaN  NaN  NaN\n",
       "2   ham                      Ok lar... Joking wif u oni...  NaN  NaN  NaN\n",
       "3  spam  Free entry in 2 a wkly comp to win FA Cup fina...  NaN  NaN  NaN\n",
       "4   ham  U dun say so early hor... U c already then say...  NaN  NaN  NaN"
      ]
     },
     "execution_count": 2,
     "metadata": {},
     "output_type": "execute_result"
    }
   ],
   "source": [
    "# load the dataset of SMS messages\n",
    "df = pd.read_csv('spam.csv', header=None,  encoding= \"ISO-8859-1\")\n",
    "df.head()"
   ]
  },
  {
   "cell_type": "code",
   "execution_count": 3,
   "metadata": {},
   "outputs": [
    {
     "data": {
      "text/html": [
       "<div>\n",
       "<style scoped>\n",
       "    .dataframe tbody tr th:only-of-type {\n",
       "        vertical-align: middle;\n",
       "    }\n",
       "\n",
       "    .dataframe tbody tr th {\n",
       "        vertical-align: top;\n",
       "    }\n",
       "\n",
       "    .dataframe thead th {\n",
       "        text-align: right;\n",
       "    }\n",
       "</style>\n",
       "<table border=\"1\" class=\"dataframe\">\n",
       "  <thead>\n",
       "    <tr style=\"text-align: right;\">\n",
       "      <th></th>\n",
       "      <th>0</th>\n",
       "      <th>1</th>\n",
       "    </tr>\n",
       "  </thead>\n",
       "  <tbody>\n",
       "    <tr>\n",
       "      <th>1</th>\n",
       "      <td>ham</td>\n",
       "      <td>Go until jurong point, crazy.. Available only ...</td>\n",
       "    </tr>\n",
       "    <tr>\n",
       "      <th>2</th>\n",
       "      <td>ham</td>\n",
       "      <td>Ok lar... Joking wif u oni...</td>\n",
       "    </tr>\n",
       "    <tr>\n",
       "      <th>3</th>\n",
       "      <td>spam</td>\n",
       "      <td>Free entry in 2 a wkly comp to win FA Cup fina...</td>\n",
       "    </tr>\n",
       "    <tr>\n",
       "      <th>4</th>\n",
       "      <td>ham</td>\n",
       "      <td>U dun say so early hor... U c already then say...</td>\n",
       "    </tr>\n",
       "    <tr>\n",
       "      <th>5</th>\n",
       "      <td>ham</td>\n",
       "      <td>Nah I don't think he goes to usf, he lives aro...</td>\n",
       "    </tr>\n",
       "  </tbody>\n",
       "</table>\n",
       "</div>"
      ],
      "text/plain": [
       "      0                                                  1\n",
       "1   ham  Go until jurong point, crazy.. Available only ...\n",
       "2   ham                      Ok lar... Joking wif u oni...\n",
       "3  spam  Free entry in 2 a wkly comp to win FA Cup fina...\n",
       "4   ham  U dun say so early hor... U c already then say...\n",
       "5   ham  Nah I don't think he goes to usf, he lives aro..."
      ]
     },
     "execution_count": 3,
     "metadata": {},
     "output_type": "execute_result"
    }
   ],
   "source": [
    "# Remove unnecessary columns and rows\n",
    "df = df.iloc[:, :2]\n",
    "df = df.iloc[1:, :]\n",
    "df.head()"
   ]
  },
  {
   "cell_type": "code",
   "execution_count": 4,
   "metadata": {},
   "outputs": [
    {
     "name": "stdout",
     "output_type": "stream",
     "text": [
      "ham     4825\n",
      "spam     747\n",
      "Name: 0, dtype: int64\n"
     ]
    }
   ],
   "source": [
    "# check class distribution \n",
    "classes = df[0]\n",
    "print(classes.value_counts())"
   ]
  },
  {
   "cell_type": "markdown",
   "metadata": {},
   "source": [
    "### 2. Preprocess the Data\n",
    "\n",
    "Preprocessing the data is an essential step in natural language process. In the following cells, we will convert our class labels to binary values using the LabelEncoder from sklearn, replace email addresses, URLs, phone numbers, and other symbols by using regular expressions, remove stop words, and extract word stems.  "
   ]
  },
  {
   "cell_type": "code",
   "execution_count": 5,
   "metadata": {},
   "outputs": [
    {
     "data": {
      "text/plain": [
       "array([0, 0, 1, 0, 0, 1, 0, 0, 1, 1])"
      ]
     },
     "execution_count": 5,
     "metadata": {},
     "output_type": "execute_result"
    }
   ],
   "source": [
    "#import Label Encoder from scikit learn \n",
    "from sklearn.preprocessing import LabelEncoder\n",
    "encoder = LabelEncoder()\n",
    "Y = encoder.fit_transform(classes)\n",
    "Y[:10]"
   ]
  },
  {
   "cell_type": "code",
   "execution_count": 6,
   "metadata": {},
   "outputs": [
    {
     "name": "stdout",
     "output_type": "stream",
     "text": [
      "1     Go until jurong point, crazy.. Available only ...\n",
      "2                         Ok lar... Joking wif u oni...\n",
      "3     Free entry in 2 a wkly comp to win FA Cup fina...\n",
      "4     U dun say so early hor... U c already then say...\n",
      "5     Nah I don't think he goes to usf, he lives aro...\n",
      "6     FreeMsg Hey there darling it's been 3 week's n...\n",
      "7     Even my brother is not like to speak with me. ...\n",
      "8     As per your request 'Melle Melle (Oru Minnamin...\n",
      "9     WINNER!! As a valued network customer you have...\n",
      "10    Had your mobile 11 months or more? U R entitle...\n",
      "Name: 1, dtype: object\n"
     ]
    }
   ],
   "source": [
    "# store the sms data\n",
    "text_msg = df[1]\n",
    "print(text_msg[:10])    "
   ]
  },
  {
   "cell_type": "markdown",
   "metadata": {},
   "source": [
    "#### 2.1 Regular Expressions\n",
    "\n",
    "Some common regular expression metacharacters - copied from wikipedia\n",
    "\n",
    "**^**     Matches the starting position within the string. In line-based tools, it matches the starting position of any line.\n",
    "\n",
    "**.**     Matches any single character (many applications exclude newlines, and exactly which characters are considered newlines is flavor-, character-encoding-, and platform-specific, but it is safe to assume that the line feed character is included). Within POSIX bracket expressions, the dot character matches a literal dot. For example, a.c matches \"abc\", etc., but [a.c] matches only \"a\", \".\", or \"c\".\n",
    "\n",
    "**[ ]**    A bracket expression. Matches a single character that is contained within the brackets. For example, [abc] matches \"a\", \"b\", or \"c\". [a-z] specifies a range which matches any lowercase letter from \"a\" to \"z\". These forms can be mixed: [abcx-z] matches \"a\", \"b\", \"c\", \"x\", \"y\", or \"z\", as does [a-cx-z].\n",
    "The - character is treated as a literal character if it is the last or the first (after the ^, if present) character within the brackets: [abc-], [-abc]. Note that backslash escapes are not allowed. The ] character can be included in a bracket expression if it is the first (after the ^) character: []abc].\n",
    "\n",
    "**[^ ]**   Matches a single character that is not contained within the brackets. For example, [^abc] matches any character other than \"a\", \"b\", or \"c\". [^a-z] matches any single character that is not a lowercase letter from \"a\" to \"z\". Likewise, literal characters and ranges can be mixed.\n",
    "\n",
    "**$**      Matches the ending position of the string or the position just before a string-ending newline. In line-based tools, it matches the ending position of any line.\n",
    "\n",
    "**( )**    Defines a marked subexpression. The string matched within the parentheses can be recalled later (see the next entry, \\n). A marked subexpression is also called a block or capturing group. BRE mode requires \\( \\).\n",
    "\n",
    "**\\n**     Matches what the nth marked subexpression matched, where n is a digit from 1 to 9. This construct is vaguely defined in the POSIX.2 standard. Some tools allow referencing more than nine capturing groups.\n",
    "\n",
    "**\\***     Matches the preceding element zero or more times. For example, ab*c matches \"ac\", \"abc\", \"abbbc\", etc. [xyz]* matches \"\", \"x\", \"y\", \"z\", \"zx\", \"zyx\", \"xyzzy\", and so on. (ab)* matches \"\", \"ab\", \"abab\", \"ababab\", and so on.\n",
    "\n",
    "**{m,n}**  Matches the preceding element at least m and not more than n times. For example, a{3,5} matches only \"aaa\", \"aaaa\", and \"aaaaa\". This is not found in a few older instances of regexes. BRE mode requires \\{m,n\\}."
   ]
  },
  {
   "cell_type": "code",
   "execution_count": 7,
   "metadata": {},
   "outputs": [],
   "source": [
    "# use regular expressions to replace email addresses, URLs, Phone numbers, other numbers\n",
    "\n",
    "# Replace email addreses with 'email'\n",
    "processed = text_msg.str.replace(r'^.+@[^\\.].*\\.[a-z]{2,}$', 'emailaddress')\n",
    "\n",
    "# Replace URLs with 'webaddress'\n",
    "processed = processed.str.replace(r'^http\\://[a-zA-Z0-9\\-\\.]+\\.[a-zA-Z]{2,3}(/\\S*)?$','webaddress')\n",
    "\n",
    "# Replace money symbols with 'moneysymb' (£ can by typed with ALT key + 156)\n",
    "processed = processed.str.replace(r'£|\\$', 'moneysymb')\n",
    "\n",
    "# Replace 10 digit phone numbers (formats include paranthesis, spaces, no spaces, dashes) with 'phonenumber'\n",
    "processed = processed.str.replace(r'^\\(?[\\d]{3}\\)?[\\s-]?[\\d]{3}[\\s-]?[\\d]{4}$','phonenumbr')\n",
    "    \n",
    "# Replace numbers with 'numbr'\n",
    "processed = processed.str.replace(r'\\d+(\\.\\d+)?', 'numbr')   \n",
    "\n"
   ]
  },
  {
   "cell_type": "code",
   "execution_count": 8,
   "metadata": {},
   "outputs": [],
   "source": [
    "# Remove punctuation\n",
    "processed = processed.str.replace(r'[^\\w\\d\\s]', ' ')\n",
    "\n",
    "# Replace whitespace between terms with a single space\n",
    "processed = processed.str.replace(r'\\s+', ' ')\n",
    "\n",
    "# Remove leading and trailing whitespace\n",
    "processed = processed.str.replace(r'^\\s+|\\s+?$', '')\n"
   ]
  },
  {
   "cell_type": "code",
   "execution_count": 9,
   "metadata": {},
   "outputs": [
    {
     "name": "stdout",
     "output_type": "stream",
     "text": [
      "1       go until jurong point crazy available only in ...\n",
      "2                                 ok lar joking wif u oni\n",
      "3       free entry in numbr a wkly comp to win fa cup ...\n",
      "4             u dun say so early hor u c already then say\n",
      "5       nah i don t think he goes to usf he lives arou...\n",
      "6       freemsg hey there darling it s been numbr week...\n",
      "7       even my brother is not like to speak with me t...\n",
      "8       as per your request melle melle oru minnaminun...\n",
      "9       winner as a valued network customer you have b...\n",
      "10      had your mobile numbr months or more u r entit...\n",
      "11      i m gonna be home soon and i don t want to tal...\n",
      "12      six chances to win cash from numbr to numbr nu...\n",
      "13      urgent you have won a numbr week free membersh...\n",
      "14      i ve been searching for the right words to tha...\n",
      "15                      i have a date on sunday with will\n",
      "16      xxxmobilemovieclub to use your credit click th...\n",
      "17                                 oh k i m watching here\n",
      "18      eh u remember how numbr spell his name yes i d...\n",
      "19      fine if thatåõs the way u feel thatåõs the way...\n",
      "20      england v macedonia dont miss the goals team n...\n",
      "21               is that seriously how you spell his name\n",
      "22      i û m going to try for numbr months ha ha only...\n",
      "23        so ì_ pay first lar then when is da stock comin\n",
      "24      aft i finish my lunch then i go str down lor a...\n",
      "25      ffffffffff alright no way i can meet up with y...\n",
      "26      just forced myself to eat a slice i m really n...\n",
      "27                          lol your always so convincing\n",
      "28      did you catch the bus are you frying an egg di...\n",
      "29      i m back amp we re packing the car now i ll le...\n",
      "30      ahhh work i vaguely remember that what does it...\n",
      "                              ...                        \n",
      "5543             armand says get your ass over to epsilon\n",
      "5544                u still havent got urself a jacket ah\n",
      "5545    i m taking derek amp taylor to walmart if i m ...\n",
      "5546        hi its in durban are you still on this number\n",
      "5547             ic there are a lotta childporn cars then\n",
      "5548    had your contract mobile numbr mnths latest mo...\n",
      "5549                     no i was trying it all weekend v\n",
      "5550    you know wot people wear t shirts jumpers hat ...\n",
      "5551            cool what time you think you can get here\n",
      "5552    wen did you get so spiritual and deep that s g...\n",
      "5553    have a safe trip to nigeria wish you happiness...\n",
      "5554                           hahaha use your brain dear\n",
      "5555    well keep in mind i ve only got enough gas for...\n",
      "5556    yeh indians was nice tho it did kane me off a ...\n",
      "5557    yes i have so that s why u texted pshew missin...\n",
      "5558    no i meant the calculation is the same that lt...\n",
      "5559                                sorry i ll call later\n",
      "5560    if you aren t here in the next lt gt hours imm...\n",
      "5561                      anything lor juz both of us lor\n",
      "5562    get me out of this dump heap my mom decided to...\n",
      "5563    ok lor sony ericsson salesman i ask shuhui the...\n",
      "5564                               ard numbr like dat lor\n",
      "5565    why don t you wait til at least wednesday to s...\n",
      "5566                                            huh y lei\n",
      "5567    reminder from onumbr to get numbr pounds free ...\n",
      "5568    this is the numbrnd time we have tried numbr c...\n",
      "5569                 will ì_ b going to esplanade fr home\n",
      "5570    pity was in mood for that so any other suggest...\n",
      "5571    the guy did some bitching but i acted like i d...\n",
      "5572                            rofl its true to its name\n",
      "Name: 1, Length: 5572, dtype: object\n"
     ]
    }
   ],
   "source": [
    "# change words to lower case - Hello, HELLO, hello are all the same word\n",
    "processed = processed.str.lower()\n",
    "print(processed)"
   ]
  },
  {
   "cell_type": "code",
   "execution_count": 10,
   "metadata": {},
   "outputs": [
    {
     "name": "stderr",
     "output_type": "stream",
     "text": [
      "[nltk_data] Downloading package stopwords to\n",
      "[nltk_data]     C:\\Users\\Administrator\\AppData\\Roaming\\nltk_data...\n",
      "[nltk_data]   Package stopwords is already up-to-date!\n",
      "[nltk_data] Downloading package punkt to\n",
      "[nltk_data]     C:\\Users\\Administrator\\AppData\\Roaming\\nltk_data...\n",
      "[nltk_data]   Package punkt is already up-to-date!\n"
     ]
    }
   ],
   "source": [
    "nltk.download('stopwords')\n",
    "nltk.download('punkt')\n",
    "from nltk.corpus import stopwords\n",
    "\n",
    "# remove stop words from text messages\n",
    "\n",
    "stop_words = set(stopwords.words('english'))\n",
    "\n",
    "processed = processed.apply(lambda x : ' '.join(term for term in x.split() if term not in stop_words))"
   ]
  },
  {
   "cell_type": "code",
   "execution_count": 11,
   "metadata": {},
   "outputs": [
    {
     "name": "stdout",
     "output_type": "stream",
     "text": [
      "go jurong point crazi avail bugi n great world la e buffet cine got amor wat\n"
     ]
    }
   ],
   "source": [
    "# Remove word stems using a Porter stemmer\n",
    "\n",
    "PS = nltk.PorterStemmer()\n",
    "\n",
    "processed = processed.apply(lambda x: ' '.join(PS.stem(term) for term in x.split()))\n",
    "print(processed[1])"
   ]
  },
  {
   "cell_type": "markdown",
   "metadata": {},
   "source": [
    "### 3. Generating Features\n",
    "\n",
    "Feature engineering is the process of using domain knowledge of the data to create features for machine learning algorithms. In this project, the words in each text message will be our features.  For this purpose, it will be necessary to tokenize each word.  We will use the 1500 most common words as features."
   ]
  },
  {
   "cell_type": "code",
   "execution_count": 12,
   "metadata": {},
   "outputs": [],
   "source": [
    "from nltk.tokenize import word_tokenize\n",
    "\n",
    "# create bags of words\n",
    "all_words = []\n",
    "for message in processed:\n",
    "        words = word_tokenize(message)\n",
    "        for w in words:\n",
    "            all_words.append(w)\n",
    "\n",
    "all_words = nltk.FreqDist(all_words)\n"
   ]
  },
  {
   "cell_type": "code",
   "execution_count": 13,
   "metadata": {},
   "outputs": [
    {
     "name": "stdout",
     "output_type": "stream",
     "text": [
      "Number of words: 6538\n",
      "Most common words: [('numbr', 2628), ('u', 1192), ('call', 672), ('go', 453), ('get', 451), ('ur', 385), ('gt', 318), ('lt', 316), ('come', 301), ('ok', 292), ('åmoneysymbnumbr', 288), ('free', 284), ('know', 274), ('day', 273), ('love', 260)]\n"
     ]
    }
   ],
   "source": [
    "# print the total number of words and the 15 most common words\n",
    "\n",
    "print('Number of words: {}'.format(len(all_words)))\n",
    "print('Most common words: {}'.format(all_words.most_common(15)))"
   ]
  },
  {
   "cell_type": "code",
   "execution_count": 14,
   "metadata": {},
   "outputs": [
    {
     "name": "stdout",
     "output_type": "stream",
     "text": [
      "['go', 'jurong', 'point', 'crazi', 'avail', 'bugi', 'n', 'great', 'world', 'la', 'e', 'buffet', 'cine', 'got', 'amor', 'wat', 'ok', 'lar', 'joke', 'wif', 'u', 'oni', 'free', 'entri', 'numbr', 'wkli', 'comp', 'win', 'fa', 'cup', 'final', 'tkt', 'numbrst', 'may', 'text', 'receiv', 'question', 'std', 'txt', 'rate', 'c', 'appli', 'numbrovernumbr', 'dun', 'say', 'earli', 'hor', 'alreadi', 'nah', 'think', 'goe', 'usf', 'live', 'around', 'though', 'freemsg', 'hey', 'darl', 'week', 'word', 'back', 'like', 'fun', 'still', 'tb', 'xxx', 'chg', 'send', 'åmoneysymbnumbr', 'rcv', 'even', 'brother', 'speak', 'treat', 'aid', 'patent', 'per', 'request', 'mell', 'oru', 'minnaminungint', 'nurungu', 'vettam', 'set', 'callertun', 'caller', 'press', 'copi', 'friend', 'winner', 'valu', 'network', 'custom', 'select', 'receivea', 'prize', 'reward', 'claim', 'call', 'code', 'klnumbr', 'valid', 'hour', 'mobil', 'month', 'r', 'entitl', 'updat', 'latest', 'colour', 'camera', 'co', 'gon', 'na', 'home', 'soon', 'want', 'talk', 'stuff', 'anymor', 'tonight', 'k', 'cri', 'enough', 'today', 'six', 'chanc', 'cash', 'pound', 'cshnumbr', 'cost', 'numbrp', 'day', 'numbrday', 'tsandc', 'repli', 'hl', 'info', 'urgent', 'membership', 'jackpot', 'www', 'dbuk', 'net', 'lccltd', 'pobox', 'numbrldnwnumbranumbrrwnumbr', 'search', 'right', 'thank', 'breather', 'promis', 'wont', 'take', 'help', 'grant', 'fulfil', 'wonder', 'bless', 'time', 'date', 'sunday', 'xxxmobilemovieclub', 'use', 'credit', 'click', 'wap', 'link', 'next', 'messag', 'http', 'com', 'qjkgighjjgcbl', 'oh', 'watch', 'eh', 'rememb', 'spell', 'name', 'ye', 'v', 'naughti', 'make', 'wet', 'fine', 'thatåõ', 'way', 'feel', 'gota', 'b', 'england', 'macedonia', 'dont', 'miss', 'goal', 'team', 'news', 'ur', 'nation', 'eg', 'tri', 'wale', 'scotland', 'numbrtxt', 'ì¼numbr', 'poboxoxnumbrwnumbrwq', 'serious', 'û', 'ha', 'ì_', 'pay', 'first', 'da', 'stock', 'comin', 'aft', 'finish', 'lunch', 'str', 'lor', 'ard', 'smth', 'ffffffffff', 'alright', 'meet', 'sooner', 'forc', 'eat', 'slice', 'realli', 'hungri', 'tho', 'suck', 'mark', 'get', 'worri', 'know', 'sick', 'turn', 'pizza', 'lol', 'alway', 'convinc', 'catch', 'bu', 'fri', 'egg', 'tea', 'mom', 'left', 'dinner', 'love', 'amp', 'pack', 'car', 'let', 'room', 'ahhh', 'work', 'vagu', 'wait', 'clear', 'sure', 'sarcast', 'x', 'us', 'yeah', 'apologet', 'fallen', 'actin', 'spoilt', 'child', 'caught', 'till', 'badli', 'cheer', 'tell', 'anyth', 'fear', 'faint', 'housework', 'quick', 'cuppa', 'subscript', 'rington', 'uk', 'charg', 'pleas', 'confirm', 'yup', 'look', 'msg', 'xuhui', 'learn', 'numbrnd', 'lesson', 'numbram', 'oop', 'roommat', 'done', 'see', 'letter', 'decid', 'hello', 'saturday', 'tomo', 'invit', 'pl', 'ahead', 'watt', 'weekend', 'abiola', 'forget', 'need', 'crave', 'sweet', 'arabian', 'steed', 'mmmmmm', 'yummi', 'rodger', 'burn', 'sm', 'nokia', 'camcord', 'deliveri', 'tomorrow', 'hope', 'man', 'well', 'endow', 'lt', 'gt', 'inch', 'hep', 'immunis', 'nigeria', 'fair', 'tyler', 'could', 'mayb', 'ask', 'bit', 'stubborn', 'hospit', 'kept', 'weak', 'sucker', 'saw', 'class', 'gram', 'usual', 'run', 'half', 'eighth', 'smarter', 'almost', 'whole', 'second', 'fyi', 'ride', 'morn', 'crash', 'place', 'wow', 'never', 'realiz', 'embarass', 'accomod', 'thought', 'sinc', 'best', 'seem', 'happi', 'cave', 'sorri', 'give', 'offer', 'ac', 'sptv', 'new', 'jersey', 'devil', 'detroit', 'red', 'wing', 'play', 'ice', 'hockey', 'correct', 'incorrect', 'end', 'mallika', 'sherawat', 'yesterday', 'find', 'url', 'congrat', 'year', 'special', 'cinema', 'pass', 'suprman', 'matrixnumbr', 'starwarsnumbr', 'etc', 'bxnumbr', 'ipnumbr', 'numbrw', 'numbrpm', 'later', 'reach', 'gauti', 'sehwag', 'odi', 'seri', 'pick', 'moneysymbnumbr', 'burger', 'move', 'pain', 'kill', 'good', 'girl', 'situat', 'seeker', 'part', 'check', 'iq', 'took', 'forev', 'come', 'doubl', 'hair', 'dresser', 'said', 'wun', 'cut', 'short', 'nice', 'advis', 'follow', 'recent', 'review', 'mob', 'award', 'bonu', 'song', 'dedic', 'valuabl', 'frnd', 'rpli', 'complimentari', 'trip', 'eurodisinc', 'trav', 'aco', 'entrynumbr', 'di', 'morefrmmob', 'shracomorsglsuplt', 'lsnumbr', 'numbraj', 'hear', 'divorc', 'barbi', 'ken', 'plane', 'wah', 'lucki', 'save', 'money', 'hee', 'hi', 'babe', 'im', 'wan', 'someth', 'xx', 'perform', 'machan', 'that', 'cool', 'gentleman', 'digniti', 'respect', 'peopl', 'much', 'shi', 'pa', 'oper', 'job', 'ta', 'earn', 'ah', 'stop', 'urgnt', 'real', 'yo', 'ticket', 'one', 'jacket', 'multi', 'start', 'came', 'bed', 'coin', 'factori', 'nitro', 'ela', 'kano', 'il', 'download', 'wen', 'stand', 'close', 'anoth', 'night', 'spent', 'late', 'afternoon', 'casualti', 'mean', 'stuffnumbrmoro', 'includ', 'sheet', 'smile', 'pleasur', 'troubl', 'pour', 'rain', 'sumnumbr', 'hurt', 'becoz', 'someon', 'servic', 'repres', 'guarante', 'havent', 'plan', 'buy', 'lido', 'show', 'collect', 'simpli', 'password', 'mix', 'verifi', 'usher', 'britney', 'fml', 'telugu', 'movi', 'abt', 'load', 'loan', 'wk', 'hol', 'forgot', 'hairdress', 'appoint', 'four', 'shower', 'beforehand', 'caus', 'prob', 'ham', 'noth', 'els', 'okay', 'price', 'long', 'legal', 'ave', 'am', 'gone', 'numbrth', 'drive', 'test', 'yet', 'guess', 'gave', 'boston', 'men', 'chang', 'locat', 'nyc', 'cuz', 'signin', 'page', 'umma', 'life', 'vava', 'lot', 'dear', 'wish', 'birthday', 'truli', 'memor', 'aight', 'hit', 'would', 'ip', 'address', 'consid', 'comput', 'minecraft', 'server', 'grumpi', 'old', 'better', 'lie', 'busi', 'plural', 'noun', 'research', 'thing', 'scare', 'mah', 'loud', 'gent', 'contact', 'last', 'draw', 'knumbr', 'numbrhr', 'numbrppm', 'wa', 'openin', 'sentenc', 'formal', 'anyway', 'juz', 'tt', 'eatin', 'puttin', 'weight', 'haha', 'anythin', 'happen', 'enter', 'cabin', 'boss', 'felt', 'askd', 'apart', 'went', 'holiday', 'flight', 'inc', 'min', 'goodo', 'must', 'friday', 'potato', 'ratio', 'tortilla', 'hmm', 'uncl', 'inform', 'school', 'directli', 'food', 'privat', 'account', 'statement', 'unredeem', 'identifi', 'expir', 'landlin', 'boxnumbrwrnumbrc', 'appl', 'pair', 'malarki', 'voda', 'number', 'match', 'quot', 'standard', 'app', 'sao', 'mu', 'ìï', 'predict', 'yetund', 'sent', 'bother', 'involv', 'impos', 'apologis', 'del', 'bak', 'sum', 'lucyxx', 'tmorrow', 'answer', 'sunshin', 'quiz', 'q', 'top', 'soni', 'dvd', 'player', 'countri', 'algarv', 'ansr', 'sp', 'tyron', 'laid', 'dog', 'direct', 'join', 'largest', 'bt', 'txting', 'gravel', 'nt', 'ecnumbra', 'emailaddress', 'befor', 'activ', 'chat', 'svc', 'hardcor', 'age', 'yr', 'lazi', 'type', 'lect', 'pouch', 'sir', 'mail', 'swt', 'nver', 'tire', 'littl', 'lovabl', 'person', 'coz', 'somtim', 'occupi', 'biggest', 'heart', 'gud', 'ninumbr', 'open', 'ya', 'dot', 'what', 'staff', 'randi', 'sexi', 'femal', 'local', 'luv', 'netcollex', 'ltd', 'ummma', 'begin', 'qatar', 'pray', 'hard', 'delet', 'sindu', 'birla', 'soft', 'wine', 'flow', 'thk', 'plaza', 'typic', 'everywher', 'dirt', 'floor', 'window', 'shirt', 'sometim', 'mouth', 'dream', 'without', 'chore', 'joy', 'tv', 'exist', 'hail', 'mist', 'becom', 'aaooooright', 'leav', 'hous', 'interview', 'boy', 'annonc', 'arrang', 'keep', 'safe', 'envi', 'everyon', 'parent', 'hand', 'excit', 'spend', 'bootydeli', 'f', 'bangbab', 'order', 'content', 'goto', 'bangb', 'internet', 'menu', 'cultur', 'modul', 'snumbr', 'avoid', 'missunderstd', 'wit', 'belov', 'escap', 'fanci', 'bridg', 'lager', 'complet', 'form', 'clark', 'also', 'utter', 'wast', 'axi', 'bank', 'hmmm', 'hop', 'muz', 'discuss', 'liao', 'bloodi', 'hell', 'cant', 'believ', 'surnam', 'mr', 'ill', 'clue', 'spanish', 'bath', 'carlo', 'mall', 'stay', 'til', 'smoke', 'moneysymb', 'worth', 'doesnt', 'log', 'spoke', 'maneesha', 'satisfi', 'experi', 'toll', 'lift', 'especi', 'approach', 'studi', 'grnumbr', 'trust', 'guy', 'bye', 'handsom', 'toward', 'mummi', 'boytoy', 'awesom', 'minut', 'freephon', 'xma', 'radio', 'ju', 'si', 'uniqu', 'august', 'areyouuniqu', 'leagu', 'touch', 'deal', 'cours', 'howev', 'suggest', 'abl', 'or', 'everi', 'stool', 'settl', 'wishin', 'mrng', 'hav', 'stori', 'hamster', 'dead', 'tmr', 'orchard', 'mrt', 'kate', 'babyjontet', 'found', 'enc', 'buck', 'darlin', 'ive', 'colleg', 'refil', 'success', 'inr', 'decim', 'keralacircl', 'prepaid', 'balanc', 'rs', 'transact', 'id', 'kr', 'goodmorn', 'sleep', 'ga', 'alter', 'dat', 'ericsson', 'oso', 'can', 'not', 'oredi', 'straight', 'dogg', 'connect', 'refund', 'bill', 'shoot', 'big', 'readi', 'bruv', 'break', 'semest', 'noe', 'leh', 'sound', 'head', 'slept', 'past', 'easi', 'sen', 'exam', 'march', 'atm', 'regist', 'os', 'ubandu', 'instal', 'disk', 'import', 'file', 'system', 'repair', 'shop', 'romant', 'nite', 'sceneri', 'tc', 'biz', 'numbroptout', 'numbrgbp', 'mtmsgnumbr', 'appreci', 'partner', 'career', 'flyng', 'horo', 'star', 'sign', 'g', 'ari', 'compani', 'elama', 'po', 'mudyadhu', 'strict', 'teacher', 'bcoz', 'teach', 'conduct', 'gandhipuram', 'walk', 'cross', 'road', 'side', 'street', 'rubber', 'batteri', 'die', 'flirt', 'sam', 'recd', 'thirtyeight', 'penc', 'print', 'upstair', 'closer', 'wil', 'theori', 'argument', 'lose', 'argu', 'kick', 'secret', 'admir', 'reveal', 'tomarrow', 'laptop', 'case', 'pleassssssseeeee', 'tel', 'avent', 'sportsx', 'shine', 'meant', 'although', 'told', 'baig', 'face', 'fr', 'thanx', 'everyth', 'commerci', 'websit', 'slipper', 'kalli', 'bat', 'inning', 'didnt', 'goodnight', 'fix', 'wake', 'dearli', 'congratul', 'cd', 'voucher', 'numbrgift', 'music', 'tnc', 'ldew', 'comnumbrwinnumbrppmxnumbragenumbr', 'ranjith', 'cal', 'drpd', 'deeraj', 'deepak', 'numbrmin', 'hold', 'bcum', 'angri', 'wid', 'dnt', 'childish', 'true', 'deep', 'affect', 'care', 'kettoda', 'manda', 'up', 'ship', 'numbrwk', 'usp', 'lag', 'bribe', 'nipost', 'lemm', 'necessarili', 'expect', 'headin', 'mmm', 'jolt', 'suzi', 'lover', 'video', 'handset', 'anytim', 'unlimit', 'park', 'mini', 'disturb', 'luton', 'ring', 'h', 'horni', 'nake', 'hot', 'unsubscrib', 'dint', 'wana', 'sometm', 'clubnumbrmobil', 'choos', 'club', 'clubnumbr', 'boxnumbr', 'mknumbr', 'numbrwt', 'evo', 'flash', 'jealou', 'singl', 'chart', 'qualiti', 'sort', 'narcot', 'sunni', 'ray', 'blue', 'bay', 'hmv', 'genuin', 'numbrperc', 'might', 'object', 'bf', 'rob', 'mack', 'gf', 'theater', 'celebr', 'full', 'swing', 'tool', 'far', 'oki', 'ahold', 'anybodi', 'throw', 'babi', 'cruisin', 'fone', 'jenni', 'ge', 'shall', 'tonit', 'varunnathu', 'edukkukaye', 'raksha', 'ollu', 'sens', 'gautham', 'haf', 'stupid', 'cam', 'buzi', 'accident', 'resend', 'phone', 'upgrad', 'sim', 'card', 'loyalti', 'numbrthfeb', 'unless', 'gurl', 'appropri', 'teas', 'plz', 'rose', 'grave', 'bslvyl', 'coffe', 'somebodi', 'high', 'diesel', 'shit', 'shock', 'scari', 'imagin', 'def', 'somewher', 'taxi', 'fridg', 'meal', 'womdarful', 'actor', 'blind', 'numbru', 'roddsnumbr', 'aberdeen', 'unit', 'kingdom', 'img', 'w', 'icmbnumbrcktznumbrrnumbr', 'hide', 'remb', 'book', 'jo', 'friendship', 'hang', 'thread', 'themob', 'newest', 'game', 'tone', 'gossip', 'sport', 'fit', 'funki', 'garag', 'key', 'bookshelf', 'accept', 'sister', 'dearnumbr', 'bestnumbr', 'closnumbr', 'lvblefrnd', 'jstfrnd', 'cutefrnd', 'lifpartnr', 'belovd', 'swtheart', 'bstfrnd', 'enemi', 'smart', 'weekli', 'cs', 'winnersclub', 'box', 'mnumbr', 'numbruz', 'gbpnumbr', 'definit', 'normal', 'rest', 'mylif', 'wot', 'lost', 'made', 'advanc', 'pongal', 'kb', 'power', 'yoga', 'dunno', 'tahan', 'anot', 'lo', 'dude', 'afraid', 'decemb', 'numbrmth', 'cake', 'merri', 'christma', 'kiss', 'cud', 'ppl', 'gona', 'lnumbr', 'buse', 'waitin', 'pete', 'guild', 'bristol', 'problem', 'track', 'record', 'read', 'women', 'light', 'apo', 'return', 'immedi', 'germani', 'line', 'via', 'access', 'prepay', 'evapor', 'violat', 'privaci', 'steal', 'employ', 'paperwork', 'report', 'supervisor', 'valentin', 'lifetim', 'rcvd', 'custcar', 'daaaaa', 'dine', 'surf', 'post', 'wiv', 'carolin', 'favourit', 'stranger', 'interest', 'two', 'round', 'gudnit', 'practic', 'yiju', 'huim', 'num', 'small', 'prestig', 'shag', 'sextextuk', 'xxuk', 'jeremiah', 'iphon', 'apeshit', 'ever', 'misbehav', 'slap', 'urself', 'fault', 'basic', 'figur', 'alcohol', 'jay', 'weed', 'ish', 'ago', 'wtf', 'onam', 'sirji', 'met', 'insur', 'insha', 'allah', 'rakhesh', 'ex', 'tata', 'aig', 'tissco', 'tayseer', 'current', 'maxim', 'cc', 'hg', 'suitenumbr', 'numbrland', 'row', 'wnumbrjnumbrhl', 'unemploy', 'moment', 'st', 'andrew', 'cold', 'chikku', 'db', 'audrey', 'statu', 'forward', 'dawn', 'refresh', 'aliv', 'breath', 'air', 'z', 'update_now', 'motorola', 'sonyericsson', 'bluetooth', 'orang', 'mobileupdnumbr', 'callnumbroptout', 'fnumbrq', 'discount', 'rpnumbr', 'regalportfolio', 'uniform', 'geeee', 'woke', 'cuddl', 'spoil', 'agre', 'will', 'refer', 'tnumbr', 'gbp', 'seen', 'recognis', 'lindsay', 'sigh', 'bar', 'ptbo', 'heron', 'payasam', 'rinu', 'bring', 'taught', 'becau', 'he', 'project', 'prabu', 'mistak', 'bodi', 'quit', 'slow', 'guid', 'ovul', 'relax', 'reason', 'followin', 'coupl', 'wallet', 'numbrmonth', 'nnumbrdx', 'owl', 'lick', 'mm', 'rental', 'mobilesdirect', 'ornumbrstoptxt', 'huh', 'sat', 'intro', 'pilat', 'kickbox', 'offic', 'lap', 'shut', 'bout', 'numbrish', 'calcul', 'period', 'actual', 'rock', 'put', 'pictur', 'ass', 'facebook', 'al', 'salam', 'wahleykkum', 'share', 'grace', 'god', 'inshah', 'visitor', 'india', 'field', 'quickli', 'administr', 'poli', 'numbrxåmoneysymbnumbrpw', 'eåmoneysymbnd', 'chechi', 'cream', 'none', 'yep', 'loxahatche', 'tree', 'stoner', 'slightli', 'disastr', 'pm', 'fav', 'wld', 'drink', 'busetop', 'sender', 'fullonsm', 'iron', 'yan', 'jiu', 'skip', 'den', 'blah', 'wendi', 'l', 'boxnumbrsknumbrch', 'whatsup', 'competit', 'txttowin', 'logo', 'namenumbr', 'mobno', 'adam', 'eve', 'yahoo', 'poboxnumbrwnumbrwq', 'txtno', 'ad', 'poboxnumbrnnumbrtfnumbrp', 'siva', 'hostel', 'aha', 'land', 'voic', 'express', 'sentiment', 'rowdi', 'ful']\n"
     ]
    }
   ],
   "source": [
    "# use the 1500 most common words as features\n",
    "\n",
    "word_features = list(all_words.keys())[:1500]\n",
    "print(word_features)"
   ]
  },
  {
   "cell_type": "code",
   "execution_count": 15,
   "metadata": {},
   "outputs": [
    {
     "name": "stdout",
     "output_type": "stream",
     "text": [
      "go\n",
      "jurong\n",
      "point\n",
      "crazi\n",
      "avail\n",
      "bugi\n",
      "n\n",
      "great\n",
      "world\n",
      "la\n",
      "e\n",
      "buffet\n",
      "cine\n",
      "got\n",
      "amor\n",
      "wat\n"
     ]
    }
   ],
   "source": [
    "# The find_features function will determine which of the 1500 words features are contained in the review\n",
    "\n",
    "def find_features(message):\n",
    "    words = word_tokenize(message)\n",
    "    feature = {}\n",
    "    for word in word_features:\n",
    "        feature[word] = (word in words)\n",
    "    return feature\n",
    "\n",
    "# Lets see an example\n",
    "features = find_features(processed[1])\n",
    "for key, value in features.items():\n",
    "    if value == True:\n",
    "        print(key)"
   ]
  },
  {
   "cell_type": "code",
   "execution_count": 16,
   "metadata": {},
   "outputs": [
    {
     "name": "stdout",
     "output_type": "stream",
     "text": [
      "({'go': False, 'jurong': False, 'point': False, 'crazi': False, 'avail': False, 'bugi': False, 'n': False, 'great': False, 'world': False, 'la': False, 'e': False, 'buffet': False, 'cine': False, 'got': False, 'amor': False, 'wat': False, 'ok': False, 'lar': False, 'joke': False, 'wif': False, 'u': True, 'oni': False, 'free': False, 'entri': False, 'numbr': True, 'wkli': False, 'comp': False, 'win': False, 'fa': False, 'cup': False, 'final': False, 'tkt': False, 'numbrst': True, 'may': False, 'text': True, 'receiv': False, 'question': False, 'std': False, 'txt': True, 'rate': False, 'c': False, 'appli': False, 'numbrovernumbr': False, 'dun': False, 'say': False, 'earli': False, 'hor': False, 'alreadi': False, 'nah': False, 'think': False, 'goe': False, 'usf': False, 'live': False, 'around': False, 'though': False, 'freemsg': False, 'hey': False, 'darl': False, 'week': False, 'word': False, 'back': False, 'like': True, 'fun': True, 'still': False, 'tb': False, 'xxx': False, 'chg': False, 'send': False, 'åmoneysymbnumbr': True, 'rcv': False, 'even': False, 'brother': False, 'speak': False, 'treat': False, 'aid': False, 'patent': False, 'per': False, 'request': False, 'mell': False, 'oru': False, 'minnaminungint': False, 'nurungu': False, 'vettam': False, 'set': False, 'callertun': False, 'caller': False, 'press': False, 'copi': False, 'friend': False, 'winner': False, 'valu': False, 'network': False, 'custom': False, 'select': False, 'receivea': False, 'prize': False, 'reward': False, 'claim': False, 'call': False, 'code': False, 'klnumbr': False, 'valid': False, 'hour': False, 'mobil': False, 'month': False, 'r': False, 'entitl': False, 'updat': False, 'latest': False, 'colour': False, 'camera': False, 'co': False, 'gon': False, 'na': False, 'home': False, 'soon': False, 'want': False, 'talk': False, 'stuff': False, 'anymor': False, 'tonight': False, 'k': False, 'cri': False, 'enough': False, 'today': False, 'six': False, 'chanc': False, 'cash': False, 'pound': False, 'cshnumbr': False, 'cost': False, 'numbrp': False, 'day': False, 'numbrday': False, 'tsandc': False, 'repli': False, 'hl': False, 'info': False, 'urgent': False, 'membership': False, 'jackpot': False, 'www': False, 'dbuk': False, 'net': False, 'lccltd': False, 'pobox': False, 'numbrldnwnumbranumbrrwnumbr': False, 'search': False, 'right': False, 'thank': False, 'breather': False, 'promis': False, 'wont': False, 'take': False, 'help': False, 'grant': False, 'fulfil': False, 'wonder': False, 'bless': False, 'time': False, 'date': False, 'sunday': False, 'xxxmobilemovieclub': False, 'use': False, 'credit': False, 'click': False, 'wap': False, 'link': False, 'next': False, 'messag': False, 'http': False, 'com': False, 'qjkgighjjgcbl': False, 'oh': False, 'watch': False, 'eh': False, 'rememb': False, 'spell': False, 'name': False, 'ye': False, 'v': False, 'naughti': False, 'make': False, 'wet': False, 'fine': False, 'thatåõ': False, 'way': False, 'feel': False, 'gota': False, 'b': False, 'england': False, 'macedonia': False, 'dont': False, 'miss': False, 'goal': False, 'team': False, 'news': False, 'ur': False, 'nation': False, 'eg': False, 'tri': False, 'wale': False, 'scotland': False, 'numbrtxt': False, 'ì¼numbr': False, 'poboxoxnumbrwnumbrwq': False, 'serious': False, 'û': False, 'ha': False, 'ì_': False, 'pay': False, 'first': False, 'da': False, 'stock': False, 'comin': False, 'aft': False, 'finish': False, 'lunch': False, 'str': False, 'lor': False, 'ard': False, 'smth': False, 'ffffffffff': False, 'alright': False, 'meet': False, 'sooner': False, 'forc': False, 'eat': False, 'slice': False, 'realli': False, 'hungri': False, 'tho': False, 'suck': False, 'mark': False, 'get': False, 'worri': False, 'know': False, 'sick': False, 'turn': False, 'pizza': False, 'lol': False, 'alway': False, 'convinc': False, 'catch': False, 'bu': False, 'fri': False, 'egg': False, 'tea': False, 'mom': False, 'left': False, 'dinner': False, 'love': False, 'amp': False, 'pack': False, 'car': False, 'let': False, 'room': False, 'ahhh': False, 'work': False, 'vagu': False, 'wait': False, 'clear': False, 'sure': False, 'sarcast': False, 'x': False, 'us': False, 'yeah': False, 'apologet': False, 'fallen': False, 'actin': False, 'spoilt': False, 'child': False, 'caught': False, 'till': False, 'badli': False, 'cheer': False, 'tell': False, 'anyth': False, 'fear': False, 'faint': False, 'housework': False, 'quick': False, 'cuppa': False, 'subscript': False, 'rington': False, 'uk': True, 'charg': False, 'pleas': False, 'confirm': False, 'yup': False, 'look': True, 'msg': False, 'xuhui': False, 'learn': False, 'numbrnd': False, 'lesson': False, 'numbram': False, 'oop': False, 'roommat': False, 'done': False, 'see': False, 'letter': False, 'decid': False, 'hello': False, 'saturday': False, 'tomo': False, 'invit': False, 'pl': False, 'ahead': False, 'watt': False, 'weekend': False, 'abiola': False, 'forget': False, 'need': False, 'crave': False, 'sweet': False, 'arabian': False, 'steed': False, 'mmmmmm': False, 'yummi': False, 'rodger': False, 'burn': False, 'sm': False, 'nokia': False, 'camcord': False, 'deliveri': False, 'tomorrow': False, 'hope': False, 'man': False, 'well': False, 'endow': False, 'lt': False, 'gt': False, 'inch': False, 'hep': False, 'immunis': False, 'nigeria': False, 'fair': False, 'tyler': False, 'could': False, 'mayb': False, 'ask': False, 'bit': False, 'stubborn': False, 'hospit': False, 'kept': False, 'weak': False, 'sucker': False, 'saw': False, 'class': False, 'gram': False, 'usual': False, 'run': False, 'half': False, 'eighth': False, 'smarter': False, 'almost': False, 'whole': False, 'second': False, 'fyi': False, 'ride': False, 'morn': False, 'crash': False, 'place': False, 'wow': False, 'never': False, 'realiz': False, 'embarass': False, 'accomod': False, 'thought': False, 'sinc': False, 'best': False, 'seem': False, 'happi': False, 'cave': False, 'sorri': False, 'give': False, 'offer': False, 'ac': False, 'sptv': False, 'new': True, 'jersey': False, 'devil': False, 'detroit': False, 'red': False, 'wing': False, 'play': False, 'ice': False, 'hockey': False, 'correct': False, 'incorrect': False, 'end': False, 'mallika': False, 'sherawat': False, 'yesterday': False, 'find': False, 'url': False, 'congrat': False, 'year': False, 'special': False, 'cinema': False, 'pass': False, 'suprman': False, 'matrixnumbr': False, 'starwarsnumbr': False, 'etc': False, 'bxnumbr': False, 'ipnumbr': False, 'numbrw': False, 'numbrpm': False, 'later': False, 'reach': False, 'gauti': False, 'sehwag': False, 'odi': False, 'seri': False, 'pick': False, 'moneysymbnumbr': False, 'burger': False, 'move': False, 'pain': False, 'kill': False, 'good': False, 'girl': False, 'situat': False, 'seeker': False, 'part': False, 'check': False, 'iq': False, 'took': False, 'forev': False, 'come': False, 'doubl': False, 'hair': False, 'dresser': False, 'said': False, 'wun': False, 'cut': False, 'short': False, 'nice': False, 'advis': False, 'follow': False, 'recent': False, 'review': False, 'mob': False, 'award': False, 'bonu': False, 'song': False, 'dedic': False, 'valuabl': False, 'frnd': False, 'rpli': False, 'complimentari': False, 'trip': False, 'eurodisinc': False, 'trav': False, 'aco': False, 'entrynumbr': False, 'di': False, 'morefrmmob': False, 'shracomorsglsuplt': False, 'lsnumbr': False, 'numbraj': False, 'hear': False, 'divorc': False, 'barbi': False, 'ken': False, 'plane': False, 'wah': False, 'lucki': False, 'save': False, 'money': False, 'hee': False, 'hi': False, 'babe': False, 'im': False, 'wan': False, 'someth': False, 'xx': False, 'perform': False, 'machan': False, 'that': False, 'cool': False, 'gentleman': False, 'digniti': False, 'respect': False, 'peopl': False, 'much': False, 'shi': False, 'pa': False, 'oper': False, 'job': False, 'ta': False, 'earn': False, 'ah': False, 'stop': False, 'urgnt': False, 'real': False, 'yo': False, 'ticket': False, 'one': False, 'jacket': False, 'multi': False, 'start': False, 'came': False, 'bed': False, 'coin': False, 'factori': False, 'nitro': False, 'ela': False, 'kano': False, 'il': False, 'download': False, 'wen': False, 'stand': False, 'close': False, 'anoth': False, 'night': False, 'spent': False, 'late': False, 'afternoon': False, 'casualti': False, 'mean': False, 'stuffnumbrmoro': False, 'includ': False, 'sheet': False, 'smile': False, 'pleasur': False, 'troubl': False, 'pour': False, 'rain': False, 'sumnumbr': False, 'hurt': False, 'becoz': False, 'someon': False, 'servic': False, 'repres': False, 'guarante': False, 'havent': False, 'plan': False, 'buy': False, 'lido': False, 'show': False, 'collect': False, 'simpli': False, 'password': False, 'mix': False, 'verifi': False, 'usher': False, 'britney': False, 'fml': False, 'telugu': False, 'movi': False, 'abt': False, 'load': False, 'loan': False, 'wk': False, 'hol': False, 'forgot': False, 'hairdress': False, 'appoint': False, 'four': False, 'shower': False, 'beforehand': False, 'caus': False, 'prob': False, 'ham': False, 'noth': False, 'els': False, 'okay': False, 'price': False, 'long': False, 'legal': False, 'ave': False, 'am': False, 'gone': False, 'numbrth': False, 'drive': False, 'test': False, 'yet': False, 'guess': False, 'gave': False, 'boston': False, 'men': False, 'chang': False, 'locat': False, 'nyc': False, 'cuz': False, 'signin': False, 'page': False, 'umma': False, 'life': False, 'vava': False, 'lot': False, 'dear': False, 'wish': False, 'birthday': False, 'truli': False, 'memor': False, 'aight': False, 'hit': False, 'would': False, 'ip': False, 'address': False, 'consid': False, 'comput': False, 'minecraft': False, 'server': False, 'grumpi': False, 'old': False, 'better': False, 'lie': False, 'busi': False, 'plural': False, 'noun': False, 'research': False, 'thing': False, 'scare': False, 'mah': False, 'loud': False, 'gent': False, 'contact': False, 'last': False, 'draw': False, 'knumbr': False, 'numbrhr': False, 'numbrppm': False, 'wa': False, 'openin': False, 'sentenc': False, 'formal': False, 'anyway': False, 'juz': False, 'tt': False, 'eatin': False, 'puttin': False, 'weight': False, 'haha': False, 'anythin': False, 'happen': False, 'enter': False, 'cabin': False, 'boss': False, 'felt': False, 'askd': False, 'apart': False, 'went': False, 'holiday': False, 'flight': False, 'inc': False, 'min': False, 'goodo': False, 'must': False, 'friday': False, 'potato': False, 'ratio': False, 'tortilla': False, 'hmm': False, 'uncl': False, 'inform': False, 'school': False, 'directli': False, 'food': False, 'privat': False, 'account': False, 'statement': False, 'unredeem': False, 'identifi': False, 'expir': False, 'landlin': False, 'boxnumbrwrnumbrc': False, 'appl': False, 'pair': False, 'malarki': False, 'voda': False, 'number': False, 'match': False, 'quot': False, 'standard': False, 'app': False, 'sao': False, 'mu': False, 'ìï': False, 'predict': False, 'yetund': False, 'sent': False, 'bother': False, 'involv': False, 'impos': False, 'apologis': False, 'del': False, 'bak': False, 'sum': False, 'lucyxx': False, 'tmorrow': False, 'answer': False, 'sunshin': False, 'quiz': False, 'q': False, 'top': False, 'soni': False, 'dvd': False, 'player': False, 'countri': False, 'algarv': False, 'ansr': False, 'sp': False, 'tyron': False, 'laid': False, 'dog': False, 'direct': False, 'join': False, 'largest': False, 'bt': False, 'txting': False, 'gravel': False, 'nt': False, 'ecnumbra': False, 'emailaddress': False, 'befor': False, 'activ': False, 'chat': False, 'svc': False, 'hardcor': False, 'age': False, 'yr': False, 'lazi': False, 'type': False, 'lect': False, 'pouch': False, 'sir': False, 'mail': False, 'swt': False, 'nver': False, 'tire': False, 'littl': False, 'lovabl': False, 'person': False, 'coz': False, 'somtim': False, 'occupi': False, 'biggest': False, 'heart': False, 'gud': False, 'ninumbr': False, 'open': False, 'ya': False, 'dot': False, 'what': False, 'staff': False, 'randi': False, 'sexi': False, 'femal': False, 'local': False, 'luv': False, 'netcollex': False, 'ltd': False, 'ummma': False, 'begin': False, 'qatar': False, 'pray': False, 'hard': False, 'delet': False, 'sindu': False, 'birla': False, 'soft': False, 'wine': False, 'flow': False, 'thk': False, 'plaza': False, 'typic': False, 'everywher': False, 'dirt': False, 'floor': False, 'window': False, 'shirt': False, 'sometim': False, 'mouth': False, 'dream': False, 'without': False, 'chore': False, 'joy': False, 'tv': False, 'exist': False, 'hail': False, 'mist': False, 'becom': False, 'aaooooright': False, 'leav': False, 'hous': False, 'interview': False, 'boy': False, 'annonc': False, 'arrang': False, 'keep': False, 'safe': False, 'envi': False, 'everyon': False, 'parent': False, 'hand': False, 'excit': False, 'spend': False, 'bootydeli': False, 'f': False, 'bangbab': False, 'order': False, 'content': False, 'goto': False, 'bangb': False, 'internet': False, 'menu': False, 'cultur': False, 'modul': False, 'snumbr': False, 'avoid': False, 'missunderstd': False, 'wit': False, 'belov': False, 'escap': False, 'fanci': False, 'bridg': False, 'lager': False, 'complet': False, 'form': False, 'clark': False, 'also': False, 'utter': False, 'wast': False, 'axi': False, 'bank': False, 'hmmm': False, 'hop': False, 'muz': False, 'discuss': False, 'liao': False, 'bloodi': False, 'hell': False, 'cant': False, 'believ': False, 'surnam': False, 'mr': False, 'ill': False, 'clue': False, 'spanish': False, 'bath': False, 'carlo': False, 'mall': False, 'stay': False, 'til': False, 'smoke': False, 'moneysymb': False, 'worth': False, 'doesnt': False, 'log': False, 'spoke': False, 'maneesha': False, 'satisfi': False, 'experi': False, 'toll': False, 'lift': False, 'especi': False, 'approach': False, 'studi': False, 'grnumbr': False, 'trust': False, 'guy': True, 'bye': False, 'handsom': False, 'toward': False, 'mummi': False, 'boytoy': False, 'awesom': False, 'minut': False, 'freephon': False, 'xma': False, 'radio': False, 'ju': False, 'si': False, 'uniqu': False, 'august': False, 'areyouuniqu': False, 'leagu': False, 'touch': False, 'deal': False, 'cours': False, 'howev': False, 'suggest': False, 'abl': False, 'or': False, 'everi': False, 'stool': False, 'settl': False, 'wishin': False, 'mrng': False, 'hav': False, 'stori': False, 'hamster': False, 'dead': False, 'tmr': False, 'orchard': False, 'mrt': False, 'kate': False, 'babyjontet': False, 'found': False, 'enc': False, 'buck': False, 'darlin': False, 'ive': False, 'colleg': False, 'refil': False, 'success': False, 'inr': False, 'decim': False, 'keralacircl': False, 'prepaid': False, 'balanc': False, 'rs': False, 'transact': False, 'id': False, 'kr': False, 'goodmorn': False, 'sleep': False, 'ga': False, 'alter': False, 'dat': False, 'ericsson': False, 'oso': False, 'can': False, 'not': False, 'oredi': False, 'straight': False, 'dogg': False, 'connect': False, 'refund': False, 'bill': False, 'shoot': False, 'big': False, 'readi': False, 'bruv': False, 'break': False, 'semest': False, 'noe': False, 'leh': False, 'sound': False, 'head': False, 'slept': False, 'past': False, 'easi': False, 'sen': False, 'exam': False, 'march': False, 'atm': False, 'regist': False, 'os': False, 'ubandu': False, 'instal': False, 'disk': False, 'import': False, 'file': False, 'system': False, 'repair': False, 'shop': False, 'romant': False, 'nite': False, 'sceneri': False, 'tc': False, 'biz': False, 'numbroptout': False, 'numbrgbp': False, 'mtmsgnumbr': False, 'appreci': False, 'partner': False, 'career': False, 'flyng': False, 'horo': False, 'star': False, 'sign': False, 'g': False, 'ari': False, 'compani': False, 'elama': False, 'po': False, 'mudyadhu': False, 'strict': False, 'teacher': False, 'bcoz': False, 'teach': False, 'conduct': False, 'gandhipuram': False, 'walk': False, 'cross': False, 'road': False, 'side': False, 'street': False, 'rubber': False, 'batteri': False, 'die': False, 'flirt': False, 'sam': False, 'recd': False, 'thirtyeight': False, 'penc': False, 'print': False, 'upstair': False, 'closer': False, 'wil': False, 'theori': False, 'argument': False, 'lose': False, 'argu': False, 'kick': False, 'secret': False, 'admir': False, 'reveal': False, 'tomarrow': False, 'laptop': False, 'case': False, 'pleassssssseeeee': False, 'tel': False, 'avent': False, 'sportsx': False, 'shine': False, 'meant': False, 'although': False, 'told': False, 'baig': False, 'face': False, 'fr': False, 'thanx': False, 'everyth': False, 'commerci': False, 'websit': False, 'slipper': False, 'kalli': False, 'bat': False, 'inning': False, 'didnt': False, 'goodnight': False, 'fix': False, 'wake': False, 'dearli': False, 'congratul': False, 'cd': False, 'voucher': False, 'numbrgift': False, 'music': False, 'tnc': False, 'ldew': False, 'comnumbrwinnumbrppmxnumbragenumbr': False, 'ranjith': False, 'cal': False, 'drpd': False, 'deeraj': False, 'deepak': False, 'numbrmin': False, 'hold': False, 'bcum': False, 'angri': False, 'wid': False, 'dnt': False, 'childish': False, 'true': False, 'deep': False, 'affect': False, 'care': False, 'kettoda': False, 'manda': False, 'up': False, 'ship': False, 'numbrwk': False, 'usp': False, 'lag': False, 'bribe': False, 'nipost': False, 'lemm': False, 'necessarili': False, 'expect': False, 'headin': False, 'mmm': False, 'jolt': False, 'suzi': False, 'lover': False, 'video': False, 'handset': False, 'anytim': False, 'unlimit': False, 'park': False, 'mini': False, 'disturb': False, 'luton': False, 'ring': False, 'h': False, 'horni': False, 'nake': False, 'hot': False, 'unsubscrib': False, 'dint': False, 'wana': False, 'sometm': False, 'clubnumbrmobil': False, 'choos': False, 'club': False, 'clubnumbr': False, 'boxnumbr': False, 'mknumbr': False, 'numbrwt': False, 'evo': False, 'flash': False, 'jealou': False, 'singl': False, 'chart': False, 'qualiti': False, 'sort': False, 'narcot': False, 'sunni': False, 'ray': False, 'blue': False, 'bay': False, 'hmv': False, 'genuin': False, 'numbrperc': False, 'might': False, 'object': False, 'bf': False, 'rob': False, 'mack': False, 'gf': False, 'theater': False, 'celebr': False, 'full': False, 'swing': False, 'tool': False, 'far': False, 'oki': False, 'ahold': False, 'anybodi': False, 'throw': False, 'babi': False, 'cruisin': False, 'fone': False, 'jenni': False, 'ge': False, 'shall': False, 'tonit': False, 'varunnathu': False, 'edukkukaye': False, 'raksha': False, 'ollu': False, 'sens': False, 'gautham': False, 'haf': False, 'stupid': False, 'cam': False, 'buzi': False, 'accident': False, 'resend': False, 'phone': False, 'upgrad': False, 'sim': False, 'card': False, 'loyalti': False, 'numbrthfeb': False, 'unless': False, 'gurl': False, 'appropri': False, 'teas': False, 'plz': False, 'rose': False, 'grave': False, 'bslvyl': False, 'coffe': False, 'somebodi': False, 'high': False, 'diesel': False, 'shit': False, 'shock': False, 'scari': False, 'imagin': False, 'def': False, 'somewher': False, 'taxi': False, 'fridg': False, 'meal': False, 'womdarful': False, 'actor': False, 'blind': False, 'numbru': False, 'roddsnumbr': False, 'aberdeen': False, 'unit': False, 'kingdom': False, 'img': False, 'w': False, 'icmbnumbrcktznumbrrnumbr': False, 'hide': False, 'remb': False, 'book': False, 'jo': False, 'friendship': False, 'hang': False, 'thread': False, 'themob': False, 'newest': False, 'game': False, 'tone': False, 'gossip': False, 'sport': False, 'fit': False, 'funki': False, 'garag': False, 'key': False, 'bookshelf': False, 'accept': False, 'sister': False, 'dearnumbr': False, 'bestnumbr': False, 'closnumbr': False, 'lvblefrnd': False, 'jstfrnd': False, 'cutefrnd': False, 'lifpartnr': False, 'belovd': False, 'swtheart': False, 'bstfrnd': False, 'enemi': False, 'smart': False, 'weekli': False, 'cs': False, 'winnersclub': False, 'box': False, 'mnumbr': False, 'numbruz': False, 'gbpnumbr': False, 'definit': False, 'normal': False, 'rest': False, 'mylif': False, 'wot': False, 'lost': False, 'made': False, 'advanc': False, 'pongal': False, 'kb': False, 'power': False, 'yoga': False, 'dunno': False, 'tahan': False, 'anot': False, 'lo': False, 'dude': False, 'afraid': False, 'decemb': False, 'numbrmth': False, 'cake': False, 'merri': False, 'christma': False, 'kiss': False, 'cud': False, 'ppl': False, 'gona': False, 'lnumbr': False, 'buse': False, 'waitin': False, 'pete': False, 'guild': False, 'bristol': False, 'problem': False, 'track': False, 'record': False, 'read': False, 'women': False, 'light': False, 'apo': False, 'return': False, 'immedi': False, 'germani': False, 'line': False, 'via': False, 'access': False, 'prepay': False, 'evapor': False, 'violat': False, 'privaci': False, 'steal': False, 'employ': False, 'paperwork': False, 'report': False, 'supervisor': False, 'valentin': False, 'lifetim': False, 'rcvd': False, 'custcar': False, 'daaaaa': False, 'dine': False, 'surf': False, 'post': False, 'wiv': False, 'carolin': False, 'favourit': False, 'stranger': False, 'interest': False, 'two': False, 'round': False, 'gudnit': False, 'practic': False, 'yiju': False, 'huim': False, 'num': False, 'small': False, 'prestig': False, 'shag': False, 'sextextuk': False, 'xxuk': False, 'jeremiah': False, 'iphon': False, 'apeshit': False, 'ever': False, 'misbehav': False, 'slap': False, 'urself': False, 'fault': False, 'basic': False, 'figur': False, 'alcohol': False, 'jay': False, 'weed': False, 'ish': False, 'ago': False, 'wtf': False, 'onam': False, 'sirji': False, 'met': False, 'insur': False, 'insha': False, 'allah': False, 'rakhesh': False, 'ex': False, 'tata': False, 'aig': False, 'tissco': False, 'tayseer': False, 'current': False, 'maxim': False, 'cc': False, 'hg': False, 'suitenumbr': False, 'numbrland': False, 'row': False, 'wnumbrjnumbrhl': False, 'unemploy': False, 'moment': False, 'st': False, 'andrew': False, 'cold': False, 'chikku': False, 'db': False, 'audrey': False, 'statu': False, 'forward': False, 'dawn': False, 'refresh': False, 'aliv': False, 'breath': False, 'air': False, 'z': False, 'update_now': False, 'motorola': False, 'sonyericsson': False, 'bluetooth': False, 'orang': False, 'mobileupdnumbr': False, 'callnumbroptout': False, 'fnumbrq': False, 'discount': False, 'rpnumbr': False, 'regalportfolio': False, 'uniform': False, 'geeee': False, 'woke': False, 'cuddl': False, 'spoil': False, 'agre': False, 'will': False, 'refer': False, 'tnumbr': False, 'gbp': False, 'seen': False, 'recognis': False, 'lindsay': False, 'sigh': False, 'bar': False, 'ptbo': False, 'heron': False, 'payasam': False, 'rinu': False, 'bring': False, 'taught': False, 'becau': False, 'he': False, 'project': False, 'prabu': False, 'mistak': False, 'bodi': False, 'quit': False, 'slow': False, 'guid': False, 'ovul': False, 'relax': False, 'reason': False, 'followin': False, 'coupl': False, 'wallet': False, 'numbrmonth': False, 'nnumbrdx': False, 'owl': False, 'lick': False, 'mm': False, 'rental': False, 'mobilesdirect': False, 'ornumbrstoptxt': False, 'huh': False, 'sat': False, 'intro': False, 'pilat': False, 'kickbox': False, 'offic': False, 'lap': False, 'shut': False, 'bout': False, 'numbrish': False, 'calcul': False, 'period': False, 'actual': False, 'rock': False, 'put': False, 'pictur': False, 'ass': False, 'facebook': False, 'al': False, 'salam': False, 'wahleykkum': False, 'share': False, 'grace': False, 'god': False, 'inshah': False, 'visitor': False, 'india': False, 'field': False, 'quickli': False, 'administr': False, 'poli': False, 'numbrxåmoneysymbnumbrpw': False, 'eåmoneysymbnd': False, 'chechi': False, 'cream': False, 'none': False, 'yep': False, 'loxahatche': False, 'tree': False, 'stoner': False, 'slightli': False, 'disastr': False, 'pm': False, 'fav': False, 'wld': False, 'drink': False, 'busetop': False, 'sender': False, 'fullonsm': False, 'iron': False, 'yan': False, 'jiu': False, 'skip': False, 'den': False, 'blah': False, 'wendi': False, 'l': False, 'boxnumbrsknumbrch': False, 'whatsup': False, 'competit': False, 'txttowin': False, 'logo': False, 'namenumbr': False, 'mobno': False, 'adam': False, 'eve': False, 'yahoo': False, 'poboxnumbrwnumbrwq': False, 'txtno': False, 'ad': False, 'poboxnumbrnnumbrtfnumbrp': False, 'siva': False, 'hostel': False, 'aha': False, 'land': False, 'voic': False, 'express': False, 'sentiment': False, 'rowdi': False, 'ful': False}, 1)\n"
     ]
    }
   ],
   "source": [
    "# Now lets do it for all the messages\n",
    "messages = list(zip(processed, Y))\n",
    "\n",
    "# define a seed for reproducibility\n",
    "seed = 1\n",
    "np.random.seed = seed\n",
    "np.random.shuffle(messages)\n",
    "\n",
    "# call find_features function for each SMS message\n",
    "featuresets = [(find_features(text), label) for (text, label) in messages]\n",
    "print(featuresets[10])"
   ]
  },
  {
   "cell_type": "code",
   "execution_count": 17,
   "metadata": {},
   "outputs": [],
   "source": [
    "# we can split featuresets into train and test sets\n",
    "from sklearn.model_selection import train_test_split\n",
    "\n",
    "training, testing = train_test_split(featuresets, test_size = 0.25, random_state = seed)\n"
   ]
  },
  {
   "cell_type": "code",
   "execution_count": 18,
   "metadata": {},
   "outputs": [
    {
     "name": "stdout",
     "output_type": "stream",
     "text": [
      "4179\n",
      "1393\n"
     ]
    }
   ],
   "source": [
    "# print lenth of training and testing set\n",
    "print(len(training))\n",
    "print(len(testing))"
   ]
  },
  {
   "cell_type": "markdown",
   "metadata": {},
   "source": [
    "### 4. Scikit-Learn Classifiers with NLTK\n",
    "\n",
    "Now that we have our dataset, we can start building algorithms! Let's start with a simple linear support vector classifier, then expand to other algorithms. We'll need to import each algorithm we plan on using from sklearn.  We also need to import some performance metrics, such as accuracy_score and classification_report."
   ]
  },
  {
   "cell_type": "code",
   "execution_count": 19,
   "metadata": {},
   "outputs": [
    {
     "name": "stdout",
     "output_type": "stream",
     "text": [
      "SVC Accuracy: 98.34888729361091\n"
     ]
    }
   ],
   "source": [
    "# we can use sklearn algorithms in NLTK\n",
    "from nltk.classify.scikitlearn import SklearnClassifier\n",
    "from sklearn.svm import SVC\n",
    "\n",
    "model = SklearnClassifier(SVC(kernel = 'linear'))\n",
    "\n",
    "# train the model on the training data\n",
    "model.train(training)\n",
    "\n",
    "# and test on the testing dataset !\n",
    "accuracy = nltk.classify.accuracy(model, testing)*100\n",
    "print(\"SVC Accuracy: {}\".format(accuracy))"
   ]
  },
  {
   "cell_type": "code",
   "execution_count": 20,
   "metadata": {},
   "outputs": [
    {
     "name": "stdout",
     "output_type": "stream",
     "text": [
      "SVM Accuracy: 98.34888729361091\n",
      "K Nearest Neighbors Accuracy: 95.11844938980617\n",
      "Decision Tree Accuracy: 97.4156496769562\n"
     ]
    },
    {
     "name": "stderr",
     "output_type": "stream",
     "text": [
      "C:\\Users\\Administrator\\Anaconda3\\lib\\site-packages\\sklearn\\ensemble\\forest.py:245: FutureWarning: The default value of n_estimators will change from 10 in version 0.20 to 100 in 0.22.\n",
      "  \"10 in version 0.20 to 100 in 0.22.\", FutureWarning)\n"
     ]
    },
    {
     "name": "stdout",
     "output_type": "stream",
     "text": [
      "Random Forest Accuracy: 98.34888729361091\n"
     ]
    },
    {
     "name": "stderr",
     "output_type": "stream",
     "text": [
      "C:\\Users\\Administrator\\Anaconda3\\lib\\site-packages\\sklearn\\linear_model\\logistic.py:432: FutureWarning: Default solver will be changed to 'lbfgs' in 0.22. Specify a solver to silence this warning.\n",
      "  FutureWarning)\n"
     ]
    },
    {
     "name": "stdout",
     "output_type": "stream",
     "text": [
      "Logistic Regression Accuracy: 98.56424982053123\n",
      "SGD Classifier Accuracy: 98.06173725771716\n",
      "Naive Bayes Accuracy: 98.56424982053123\n",
      "SVM Linear Accuracy: 98.34888729361091\n"
     ]
    }
   ],
   "source": [
    "from sklearn.neighbors import KNeighborsClassifier\n",
    "from sklearn.tree import DecisionTreeClassifier\n",
    "from sklearn.ensemble import RandomForestClassifier\n",
    "from sklearn.linear_model import LogisticRegression, SGDClassifier\n",
    "from sklearn.naive_bayes import MultinomialNB\n",
    "from sklearn.svm import SVC\n",
    "from sklearn.metrics import classification_report, accuracy_score, confusion_matrix\n",
    "\n",
    "# Define models to train\n",
    "names = [\"SVM\",\"K Nearest Neighbors\", \"Decision Tree\", \"Random Forest\", \"Logistic Regression\", \"SGD Classifier\",\n",
    "         \"Naive Bayes\", \"SVM Linear\"]\n",
    "\n",
    "classifier = [SVC(kernel = 'linear'), KNeighborsClassifier(), DecisionTreeClassifier(), RandomForestClassifier(), LogisticRegression(),  SGDClassifier(max_iter = 100), MultinomialNB(), SVC(kernel = 'linear')]\n",
    "models = zip(names, classifier)\n",
    "for name, model in models:\n",
    "    nltk_model = SklearnClassifier(model)\n",
    "    nltk_model.train(training)\n",
    "    accuracy = nltk.classify.accuracy(nltk_model, testing)*100\n",
    "    print(\"{} Accuracy: {}\".format(name, accuracy))"
   ]
  },
  {
   "cell_type": "code",
   "execution_count": 21,
   "metadata": {},
   "outputs": [
    {
     "name": "stdout",
     "output_type": "stream",
     "text": [
      "Voting Classifier: Accuracy: 98.42067480258436\n"
     ]
    }
   ],
   "source": [
    "# Ensemble method - Voting classifier\n",
    "from sklearn.ensemble import VotingClassifier\n",
    "\n",
    "names = [\"K Nearest Neighbors\", \"Decision Tree\", \"Random Forest\", \"Logistic Regression\", \"SGD Classifier\",\n",
    "         \"Naive Bayes\", \"SVM Linear\"]\n",
    "\n",
    "classifiers = [\n",
    "    KNeighborsClassifier(),\n",
    "    DecisionTreeClassifier(),\n",
    "    RandomForestClassifier(),\n",
    "    LogisticRegression(),\n",
    "    SGDClassifier(max_iter = 100),\n",
    "    MultinomialNB(),\n",
    "    SVC(kernel = 'linear')\n",
    "]\n",
    "\n",
    "models = list(zip(names, classifiers))\n",
    "\n",
    "nltk_ensemble = SklearnClassifier(VotingClassifier(estimators = models, voting = 'hard', n_jobs = -1 ))\n",
    "nltk_ensemble.train(training)\n",
    "accuracy = nltk.classify.accuracy(nltk_ensemble, testing)*100\n",
    "print(\"Voting Classifier: Accuracy: {}\".format(accuracy))"
   ]
  },
  {
   "cell_type": "code",
   "execution_count": 22,
   "metadata": {},
   "outputs": [],
   "source": [
    "# make class label prediction for testing set\n",
    "txt_features, labels = zip(*testing)\n",
    "\n",
    "prediction = nltk_ensemble.classify_many(txt_features)"
   ]
  },
  {
   "cell_type": "code",
   "execution_count": 23,
   "metadata": {},
   "outputs": [
    {
     "name": "stdout",
     "output_type": "stream",
     "text": [
      "              precision    recall  f1-score   support\n",
      "\n",
      "           0       0.99      1.00      0.99      1215\n",
      "           1       0.97      0.90      0.94       178\n",
      "\n",
      "    accuracy                           0.98      1393\n",
      "   macro avg       0.98      0.95      0.96      1393\n",
      "weighted avg       0.98      0.98      0.98      1393\n",
      "\n"
     ]
    },
    {
     "data": {
      "text/html": [
       "<div>\n",
       "<style scoped>\n",
       "    .dataframe tbody tr th:only-of-type {\n",
       "        vertical-align: middle;\n",
       "    }\n",
       "\n",
       "    .dataframe tbody tr th {\n",
       "        vertical-align: top;\n",
       "    }\n",
       "\n",
       "    .dataframe thead tr th {\n",
       "        text-align: left;\n",
       "    }\n",
       "</style>\n",
       "<table border=\"1\" class=\"dataframe\">\n",
       "  <thead>\n",
       "    <tr>\n",
       "      <th></th>\n",
       "      <th></th>\n",
       "      <th colspan=\"2\" halign=\"left\">predicted</th>\n",
       "    </tr>\n",
       "    <tr>\n",
       "      <th></th>\n",
       "      <th></th>\n",
       "      <th>ham</th>\n",
       "      <th>spam</th>\n",
       "    </tr>\n",
       "  </thead>\n",
       "  <tbody>\n",
       "    <tr>\n",
       "      <th rowspan=\"2\" valign=\"top\">actual</th>\n",
       "      <th>ham</th>\n",
       "      <td>1210</td>\n",
       "      <td>5</td>\n",
       "    </tr>\n",
       "    <tr>\n",
       "      <th>spam</th>\n",
       "      <td>17</td>\n",
       "      <td>161</td>\n",
       "    </tr>\n",
       "  </tbody>\n",
       "</table>\n",
       "</div>"
      ],
      "text/plain": [
       "            predicted     \n",
       "                  ham spam\n",
       "actual ham       1210    5\n",
       "       spam        17  161"
      ]
     },
     "execution_count": 23,
     "metadata": {},
     "output_type": "execute_result"
    }
   ],
   "source": [
    "# print a confusion matrix and a classification report\n",
    "print(classification_report(labels, prediction))\n",
    "\n",
    "pd.DataFrame(\n",
    "    confusion_matrix(labels, prediction),\n",
    "    index = [['actual', 'actual'], ['ham', 'spam']],\n",
    "    columns = [['predicted', 'predicted'], ['ham', 'spam']])"
   ]
  },
  {
   "cell_type": "markdown",
   "metadata": {},
   "source": [
    "#### Thank you!"
   ]
  }
 ],
 "metadata": {
  "kernelspec": {
   "display_name": "Python 3",
   "language": "python",
   "name": "python3"
  },
  "language_info": {
   "codemirror_mode": {
    "name": "ipython",
    "version": 3
   },
   "file_extension": ".py",
   "mimetype": "text/x-python",
   "name": "python",
   "nbconvert_exporter": "python",
   "pygments_lexer": "ipython3",
   "version": "3.7.3"
  }
 },
 "nbformat": 4,
 "nbformat_minor": 2
}
